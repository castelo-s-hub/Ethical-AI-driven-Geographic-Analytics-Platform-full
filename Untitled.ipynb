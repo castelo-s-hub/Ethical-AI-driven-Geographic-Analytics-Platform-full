{
 "cells": [
  {
   "cell_type": "code",
   "execution_count": 11,
   "id": "2d26de94-8408-4ac7-be79-e30705e7ef43",
   "metadata": {},
   "outputs": [
    {
     "name": "stdout",
     "output_type": "stream",
     "text": [
      "Mean Squared Error: 0.030281661386199213\n"
     ]
    },
    {
     "data": {
      "text/plain": [
       "['your_trained_model.joblib']"
      ]
     },
     "execution_count": 11,
     "metadata": {},
     "output_type": "execute_result"
    }
   ],
   "source": [
    "import pandas as pd\n",
    "from sklearn.model_selection import train_test_split\n",
    "from sklearn.ensemble import RandomForestRegressor\n",
    "from sklearn.metrics import mean_squared_error\n",
    "from joblib import dump\n",
    "\n",
    "dfAirQuality = pd.read_csv('improved_air_quality_data.csv')\n",
    "\n",
    "# Separate features and target variable\n",
    "X1 = dfAirQuality.drop(['timestamp','location'], axis=1)\n",
    "y1 = dfAirQuality['pm25']\n",
    "\n",
    "# Split the dataset into training and testing sets\n",
    "X_train1, X_test1, y_train1, y_test1 = train_test_split(X1, y1, test_size=0.2, random_state=42)\n",
    "\n",
    "# Train a model (example: Random Forest Regressor)\n",
    "model1 = RandomForestRegressor()\n",
    "model1.fit(X_train1, y_train1)\n",
    "\n",
    "# Make predictions\n",
    "predictions1 = model1.predict(X_test1)\n",
    "\n",
    "# Evaluate the model\n",
    "mse = mean_squared_error(y_test1, predictions1)\n",
    "print(f'Mean Squared Error: {mse}')\n",
    "\n",
    "# Save the trained model\n",
    "dump(model1, 'airQualityPm25.joblib')"
   ]
  },
  {
   "cell_type": "code",
   "execution_count": null,
   "id": "b2d04257-bb27-459e-9888-82646e916cc5",
   "metadata": {},
   "outputs": [],
   "source": []
  }
 ],
 "metadata": {
  "kernelspec": {
   "display_name": "Python 3 (ipykernel)",
   "language": "python",
   "name": "python3"
  },
  "language_info": {
   "codemirror_mode": {
    "name": "ipython",
    "version": 3
   },
   "file_extension": ".py",
   "mimetype": "text/x-python",
   "name": "python",
   "nbconvert_exporter": "python",
   "pygments_lexer": "ipython3",
   "version": "3.10.4"
  }
 },
 "nbformat": 4,
 "nbformat_minor": 5
}
